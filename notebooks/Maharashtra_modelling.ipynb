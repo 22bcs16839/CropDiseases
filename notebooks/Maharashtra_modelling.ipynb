{
 "cells": [
  {
   "cell_type": "code",
   "execution_count": 1,
   "metadata": {},
   "outputs": [],
   "source": [
    "import numpy as np\n",
    "import pandas as pd\n",
    "import matplotlib.pyplot as plt\n",
    "import seaborn as sns"
   ]
  },
  {
   "cell_type": "code",
   "execution_count": 2,
   "metadata": {},
   "outputs": [],
   "source": [
    "PATH = 'DATA/Maharashtra.csv'\n",
    "df_raw = pd.read_csv(PATH)"
   ]
  },
  {
   "cell_type": "code",
   "execution_count": 3,
   "metadata": {},
   "outputs": [
    {
     "data": {
      "text/html": [
       "<div>\n",
       "<style scoped>\n",
       "    .dataframe tbody tr th:only-of-type {\n",
       "        vertical-align: middle;\n",
       "    }\n",
       "\n",
       "    .dataframe tbody tr th {\n",
       "        vertical-align: top;\n",
       "    }\n",
       "\n",
       "    .dataframe thead th {\n",
       "        text-align: right;\n",
       "    }\n",
       "</style>\n",
       "<table border=\"1\" class=\"dataframe\">\n",
       "  <thead>\n",
       "    <tr style=\"text-align: right;\">\n",
       "      <th></th>\n",
       "      <th>State_Name</th>\n",
       "      <th>District_Name</th>\n",
       "      <th>Crop_Year</th>\n",
       "      <th>Season</th>\n",
       "      <th>Crop</th>\n",
       "      <th>Area</th>\n",
       "      <th>Production</th>\n",
       "    </tr>\n",
       "  </thead>\n",
       "  <tbody>\n",
       "    <tr>\n",
       "      <th>0</th>\n",
       "      <td>Maharashtra</td>\n",
       "      <td>AHMEDNAGAR</td>\n",
       "      <td>1997</td>\n",
       "      <td>Autumn</td>\n",
       "      <td>Maize</td>\n",
       "      <td>1.0</td>\n",
       "      <td>1113.0</td>\n",
       "    </tr>\n",
       "    <tr>\n",
       "      <th>1</th>\n",
       "      <td>Maharashtra</td>\n",
       "      <td>AHMEDNAGAR</td>\n",
       "      <td>1997</td>\n",
       "      <td>Kharif</td>\n",
       "      <td>Arhar/Tur</td>\n",
       "      <td>17600.0</td>\n",
       "      <td>6300.0</td>\n",
       "    </tr>\n",
       "    <tr>\n",
       "      <th>2</th>\n",
       "      <td>Maharashtra</td>\n",
       "      <td>AHMEDNAGAR</td>\n",
       "      <td>1997</td>\n",
       "      <td>Kharif</td>\n",
       "      <td>Bajra</td>\n",
       "      <td>274100.0</td>\n",
       "      <td>152800.0</td>\n",
       "    </tr>\n",
       "    <tr>\n",
       "      <th>3</th>\n",
       "      <td>Maharashtra</td>\n",
       "      <td>AHMEDNAGAR</td>\n",
       "      <td>1997</td>\n",
       "      <td>Kharif</td>\n",
       "      <td>Gram</td>\n",
       "      <td>40800.0</td>\n",
       "      <td>18600.0</td>\n",
       "    </tr>\n",
       "    <tr>\n",
       "      <th>4</th>\n",
       "      <td>Maharashtra</td>\n",
       "      <td>AHMEDNAGAR</td>\n",
       "      <td>1997</td>\n",
       "      <td>Kharif</td>\n",
       "      <td>Jowar</td>\n",
       "      <td>900.0</td>\n",
       "      <td>1100.0</td>\n",
       "    </tr>\n",
       "  </tbody>\n",
       "</table>\n",
       "</div>"
      ],
      "text/plain": [
       "    State_Name District_Name  Crop_Year       Season       Crop      Area  \\\n",
       "0  Maharashtra    AHMEDNAGAR       1997  Autumn           Maize       1.0   \n",
       "1  Maharashtra    AHMEDNAGAR       1997  Kharif       Arhar/Tur   17600.0   \n",
       "2  Maharashtra    AHMEDNAGAR       1997  Kharif           Bajra  274100.0   \n",
       "3  Maharashtra    AHMEDNAGAR       1997  Kharif            Gram   40800.0   \n",
       "4  Maharashtra    AHMEDNAGAR       1997  Kharif           Jowar     900.0   \n",
       "\n",
       "   Production  \n",
       "0      1113.0  \n",
       "1      6300.0  \n",
       "2    152800.0  \n",
       "3     18600.0  \n",
       "4      1100.0  "
      ]
     },
     "execution_count": 3,
     "metadata": {},
     "output_type": "execute_result"
    }
   ],
   "source": [
    "df_raw.head()"
   ]
  },
  {
   "cell_type": "code",
   "execution_count": 6,
   "metadata": {},
   "outputs": [],
   "source": [
    "df_raw.drop(['State_Name'], axis=1, inplace=True)"
   ]
  },
  {
   "cell_type": "code",
   "execution_count": 7,
   "metadata": {},
   "outputs": [
    {
     "data": {
      "text/html": [
       "<div>\n",
       "<style scoped>\n",
       "    .dataframe tbody tr th:only-of-type {\n",
       "        vertical-align: middle;\n",
       "    }\n",
       "\n",
       "    .dataframe tbody tr th {\n",
       "        vertical-align: top;\n",
       "    }\n",
       "\n",
       "    .dataframe thead th {\n",
       "        text-align: right;\n",
       "    }\n",
       "</style>\n",
       "<table border=\"1\" class=\"dataframe\">\n",
       "  <thead>\n",
       "    <tr style=\"text-align: right;\">\n",
       "      <th></th>\n",
       "      <th>District_Name</th>\n",
       "      <th>Crop_Year</th>\n",
       "      <th>Season</th>\n",
       "      <th>Crop</th>\n",
       "      <th>Area</th>\n",
       "      <th>Production</th>\n",
       "    </tr>\n",
       "  </thead>\n",
       "  <tbody>\n",
       "    <tr>\n",
       "      <th>0</th>\n",
       "      <td>AHMEDNAGAR</td>\n",
       "      <td>1997</td>\n",
       "      <td>Autumn</td>\n",
       "      <td>Maize</td>\n",
       "      <td>1.0</td>\n",
       "      <td>1113.0</td>\n",
       "    </tr>\n",
       "    <tr>\n",
       "      <th>1</th>\n",
       "      <td>AHMEDNAGAR</td>\n",
       "      <td>1997</td>\n",
       "      <td>Kharif</td>\n",
       "      <td>Arhar/Tur</td>\n",
       "      <td>17600.0</td>\n",
       "      <td>6300.0</td>\n",
       "    </tr>\n",
       "    <tr>\n",
       "      <th>2</th>\n",
       "      <td>AHMEDNAGAR</td>\n",
       "      <td>1997</td>\n",
       "      <td>Kharif</td>\n",
       "      <td>Bajra</td>\n",
       "      <td>274100.0</td>\n",
       "      <td>152800.0</td>\n",
       "    </tr>\n",
       "    <tr>\n",
       "      <th>3</th>\n",
       "      <td>AHMEDNAGAR</td>\n",
       "      <td>1997</td>\n",
       "      <td>Kharif</td>\n",
       "      <td>Gram</td>\n",
       "      <td>40800.0</td>\n",
       "      <td>18600.0</td>\n",
       "    </tr>\n",
       "    <tr>\n",
       "      <th>4</th>\n",
       "      <td>AHMEDNAGAR</td>\n",
       "      <td>1997</td>\n",
       "      <td>Kharif</td>\n",
       "      <td>Jowar</td>\n",
       "      <td>900.0</td>\n",
       "      <td>1100.0</td>\n",
       "    </tr>\n",
       "  </tbody>\n",
       "</table>\n",
       "</div>"
      ],
      "text/plain": [
       "  District_Name  Crop_Year       Season       Crop      Area  Production\n",
       "0    AHMEDNAGAR       1997  Autumn           Maize       1.0      1113.0\n",
       "1    AHMEDNAGAR       1997  Kharif       Arhar/Tur   17600.0      6300.0\n",
       "2    AHMEDNAGAR       1997  Kharif           Bajra  274100.0    152800.0\n",
       "3    AHMEDNAGAR       1997  Kharif            Gram   40800.0     18600.0\n",
       "4    AHMEDNAGAR       1997  Kharif           Jowar     900.0      1100.0"
      ]
     },
     "execution_count": 7,
     "metadata": {},
     "output_type": "execute_result"
    }
   ],
   "source": [
    "df_raw.head()"
   ]
  },
  {
   "cell_type": "code",
   "execution_count": 13,
   "metadata": {},
   "outputs": [
    {
     "name": "stdout",
     "output_type": "stream",
     "text": [
      "Unique crops:  ['Maize' 'Arhar/Tur' 'Bajra' 'Gram' 'Jowar' 'Moong(Green Gram)'\n",
      " 'Pulses total' 'Ragi' 'Rice' 'Sugarcane' 'Total foodgrain' 'Urad'\n",
      " 'Other  Rabi pulses' 'Wheat' 'Cotton(lint)' 'Castor seed' 'Groundnut'\n",
      " 'Niger seed' 'Other Cereals & Millets' 'Other Kharif pulses' 'Sesamum'\n",
      " 'Soyabean' 'Sunflower' 'Linseed' 'Rapeseed &Mustard' 'Safflower'\n",
      " 'Small millets' 'other oilseeds' 'Banana' 'Grapes' 'Mango' 'Onion'\n",
      " 'Tomato' 'Tobacco']\n",
      "\n",
      "Number of unique crops:  34\n"
     ]
    }
   ],
   "source": [
    "print(\"Unique crops: \",df_raw['Crop'].unique())\n",
    "print(\"\\nNumber of unique crops: \", df_raw['Crop'].nunique())"
   ]
  },
  {
   "cell_type": "markdown",
   "metadata": {},
   "source": [
    "### Getting frequency of crops"
   ]
  },
  {
   "cell_type": "code",
   "execution_count": 15,
   "metadata": {},
   "outputs": [
    {
     "data": {
      "text/plain": [
       "Maize                      1056\n",
       "Sunflower                   960\n",
       "Jowar                       875\n",
       "Groundnut                   869\n",
       "Sesamum                     673\n",
       "Rice                        654\n",
       "Moong(Green Gram)           573\n",
       "Arhar/Tur                   570\n",
       "Urad                        550\n",
       "Gram                        548\n",
       "Wheat                       518\n",
       "Soyabean                    477\n",
       "Cotton(lint)                465\n",
       "Sugarcane                   456\n",
       "Bajra                       386\n",
       "Rapeseed &Mustard           367\n",
       "Other Kharif pulses         342\n",
       "Safflower                   339\n",
       "Niger seed                  323\n",
       "Other  Rabi pulses          306\n",
       "Castor seed                 296\n",
       "Linseed                     281\n",
       "Small millets               210\n",
       "Ragi                        206\n",
       "Other Cereals & Millets      86\n",
       "other oilseeds               43\n",
       "Mango                        31\n",
       "Tomato                       30\n",
       "Total foodgrain              29\n",
       "Pulses total                 29\n",
       "Banana                       28\n",
       "Onion                        26\n",
       "Grapes                       24\n",
       "Tobacco                       2\n",
       "Name: Crop, dtype: int64"
      ]
     },
     "execution_count": 15,
     "metadata": {},
     "output_type": "execute_result"
    }
   ],
   "source": [
    "df_raw['Crop'].value_counts()"
   ]
  },
  {
   "cell_type": "code",
   "execution_count": 16,
   "metadata": {},
   "outputs": [
    {
     "data": {
      "text/plain": [
       "AHMEDNAGAR    495\n",
       "PUNE          495\n",
       "SATARA        478\n",
       "PARBHANI      467\n",
       "LATUR         466\n",
       "BEED          464\n",
       "OSMANABAD     461\n",
       "NANDED        461\n",
       "NASHIK        459\n",
       "SOLAPUR       458\n",
       "SANGLI        452\n",
       "JALNA         435\n",
       "AURANGABAD    432\n",
       "DHULE         418\n",
       "KOLHAPUR      409\n",
       "BULDHANA      403\n",
       "JALGAON       402\n",
       "AMRAVATI      400\n",
       "NAGPUR        388\n",
       "HINGOLI       377\n",
       "NANDURBAR     377\n",
       "YAVATMAL      357\n",
       "AKOLA         355\n",
       "WARDHA        328\n",
       "CHANDRAPUR    325\n",
       "WASHIM        307\n",
       "GADCHIROLI    306\n",
       "BHANDARA      288\n",
       "THANE         268\n",
       "RAIGAD        236\n",
       "GONDIA        229\n",
       "RATNAGIRI     213\n",
       "SINDHUDURG    207\n",
       "PALGHAR        11\n",
       "MUMBAI          1\n",
       "Name: District_Name, dtype: int64"
      ]
     },
     "execution_count": 16,
     "metadata": {},
     "output_type": "execute_result"
    }
   ],
   "source": [
    "df_raw['District_Name'].value_counts()"
   ]
  },
  {
   "cell_type": "code",
   "execution_count": 17,
   "metadata": {},
   "outputs": [
    {
     "data": {
      "text/plain": [
       "Kharif         7275\n",
       "Rabi           3824\n",
       "Summer         1011\n",
       "Whole Year      511\n",
       "Autumn            7\n",
       "Name: Season, dtype: int64"
      ]
     },
     "execution_count": 17,
     "metadata": {},
     "output_type": "execute_result"
    }
   ],
   "source": [
    "df_raw['Season'].value_counts()"
   ]
  },
  {
   "cell_type": "code",
   "execution_count": null,
   "metadata": {},
   "outputs": [],
   "source": []
  }
 ],
 "metadata": {
  "kernelspec": {
   "display_name": "Python 3",
   "language": "python",
   "name": "python3"
  },
  "language_info": {
   "codemirror_mode": {
    "name": "ipython",
    "version": 3
   },
   "file_extension": ".py",
   "mimetype": "text/x-python",
   "name": "python",
   "nbconvert_exporter": "python",
   "pygments_lexer": "ipython3",
   "version": "3.8.5"
  }
 },
 "nbformat": 4,
 "nbformat_minor": 4
}
