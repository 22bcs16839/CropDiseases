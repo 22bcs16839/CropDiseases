{
 "cells": [
  {
   "cell_type": "code",
   "execution_count": 73,
   "metadata": {},
   "outputs": [],
   "source": [
    "import numpy as np\n",
    "import pandas as pd\n",
    "import matplotlib.pyplot as plt\n",
    "import seaborn as sns"
   ]
  },
  {
   "cell_type": "code",
   "execution_count": 74,
   "metadata": {},
   "outputs": [],
   "source": [
    "PATH = '../Data_final/Maharashtra.csv'\n",
    "df_raw = pd.read_csv(PATH)"
   ]
  },
  {
   "cell_type": "code",
   "execution_count": 75,
   "metadata": {},
   "outputs": [
    {
     "data": {
      "text/html": [
       "<div>\n",
       "<style scoped>\n",
       "    .dataframe tbody tr th:only-of-type {\n",
       "        vertical-align: middle;\n",
       "    }\n",
       "\n",
       "    .dataframe tbody tr th {\n",
       "        vertical-align: top;\n",
       "    }\n",
       "\n",
       "    .dataframe thead th {\n",
       "        text-align: right;\n",
       "    }\n",
       "</style>\n",
       "<table border=\"1\" class=\"dataframe\">\n",
       "  <thead>\n",
       "    <tr style=\"text-align: right;\">\n",
       "      <th></th>\n",
       "      <th>State_Name</th>\n",
       "      <th>District_Name</th>\n",
       "      <th>Crop_Year</th>\n",
       "      <th>Season</th>\n",
       "      <th>Crop</th>\n",
       "      <th>Area</th>\n",
       "      <th>Production</th>\n",
       "    </tr>\n",
       "  </thead>\n",
       "  <tbody>\n",
       "    <tr>\n",
       "      <th>0</th>\n",
       "      <td>NaN</td>\n",
       "      <td>NaN</td>\n",
       "      <td>NaN</td>\n",
       "      <td>NaN</td>\n",
       "      <td>NaN</td>\n",
       "      <td>NaN</td>\n",
       "      <td>NaN</td>\n",
       "    </tr>\n",
       "    <tr>\n",
       "      <th>1</th>\n",
       "      <td>Maharashtra</td>\n",
       "      <td>AHMEDNAGAR</td>\n",
       "      <td>1997.0</td>\n",
       "      <td>Kharif</td>\n",
       "      <td>Arhar/Tur</td>\n",
       "      <td>17600.0</td>\n",
       "      <td>6300.0</td>\n",
       "    </tr>\n",
       "    <tr>\n",
       "      <th>2</th>\n",
       "      <td>Maharashtra</td>\n",
       "      <td>AHMEDNAGAR</td>\n",
       "      <td>1997.0</td>\n",
       "      <td>Kharif</td>\n",
       "      <td>Bajra</td>\n",
       "      <td>274100.0</td>\n",
       "      <td>152800.0</td>\n",
       "    </tr>\n",
       "    <tr>\n",
       "      <th>3</th>\n",
       "      <td>Maharashtra</td>\n",
       "      <td>AHMEDNAGAR</td>\n",
       "      <td>1997.0</td>\n",
       "      <td>Kharif</td>\n",
       "      <td>Gram</td>\n",
       "      <td>40800.0</td>\n",
       "      <td>18600.0</td>\n",
       "    </tr>\n",
       "    <tr>\n",
       "      <th>4</th>\n",
       "      <td>Maharashtra</td>\n",
       "      <td>AHMEDNAGAR</td>\n",
       "      <td>1997.0</td>\n",
       "      <td>Kharif</td>\n",
       "      <td>Jowar</td>\n",
       "      <td>900.0</td>\n",
       "      <td>1100.0</td>\n",
       "    </tr>\n",
       "  </tbody>\n",
       "</table>\n",
       "</div>"
      ],
      "text/plain": [
       "    State_Name District_Name  Crop_Year       Season       Crop      Area  \\\n",
       "0          NaN           NaN        NaN          NaN        NaN       NaN   \n",
       "1  Maharashtra    AHMEDNAGAR     1997.0  Kharif       Arhar/Tur   17600.0   \n",
       "2  Maharashtra    AHMEDNAGAR     1997.0  Kharif           Bajra  274100.0   \n",
       "3  Maharashtra    AHMEDNAGAR     1997.0  Kharif            Gram   40800.0   \n",
       "4  Maharashtra    AHMEDNAGAR     1997.0  Kharif           Jowar     900.0   \n",
       "\n",
       "   Production  \n",
       "0         NaN  \n",
       "1      6300.0  \n",
       "2    152800.0  \n",
       "3     18600.0  \n",
       "4      1100.0  "
      ]
     },
     "execution_count": 75,
     "metadata": {},
     "output_type": "execute_result"
    }
   ],
   "source": [
    "df_raw.head()"
   ]
  },
  {
   "cell_type": "code",
   "execution_count": 76,
   "metadata": {},
   "outputs": [],
   "source": [
    "df_raw.drop(['State_Name'], axis=1, inplace=True)"
   ]
  },
  {
   "cell_type": "code",
   "execution_count": 77,
   "metadata": {},
   "outputs": [
    {
     "data": {
      "text/html": [
       "<div>\n",
       "<style scoped>\n",
       "    .dataframe tbody tr th:only-of-type {\n",
       "        vertical-align: middle;\n",
       "    }\n",
       "\n",
       "    .dataframe tbody tr th {\n",
       "        vertical-align: top;\n",
       "    }\n",
       "\n",
       "    .dataframe thead th {\n",
       "        text-align: right;\n",
       "    }\n",
       "</style>\n",
       "<table border=\"1\" class=\"dataframe\">\n",
       "  <thead>\n",
       "    <tr style=\"text-align: right;\">\n",
       "      <th></th>\n",
       "      <th>District_Name</th>\n",
       "      <th>Crop_Year</th>\n",
       "      <th>Season</th>\n",
       "      <th>Crop</th>\n",
       "      <th>Area</th>\n",
       "      <th>Production</th>\n",
       "    </tr>\n",
       "  </thead>\n",
       "  <tbody>\n",
       "    <tr>\n",
       "      <th>0</th>\n",
       "      <td>NaN</td>\n",
       "      <td>NaN</td>\n",
       "      <td>NaN</td>\n",
       "      <td>NaN</td>\n",
       "      <td>NaN</td>\n",
       "      <td>NaN</td>\n",
       "    </tr>\n",
       "    <tr>\n",
       "      <th>1</th>\n",
       "      <td>AHMEDNAGAR</td>\n",
       "      <td>1997.0</td>\n",
       "      <td>Kharif</td>\n",
       "      <td>Arhar/Tur</td>\n",
       "      <td>17600.0</td>\n",
       "      <td>6300.0</td>\n",
       "    </tr>\n",
       "    <tr>\n",
       "      <th>2</th>\n",
       "      <td>AHMEDNAGAR</td>\n",
       "      <td>1997.0</td>\n",
       "      <td>Kharif</td>\n",
       "      <td>Bajra</td>\n",
       "      <td>274100.0</td>\n",
       "      <td>152800.0</td>\n",
       "    </tr>\n",
       "    <tr>\n",
       "      <th>3</th>\n",
       "      <td>AHMEDNAGAR</td>\n",
       "      <td>1997.0</td>\n",
       "      <td>Kharif</td>\n",
       "      <td>Gram</td>\n",
       "      <td>40800.0</td>\n",
       "      <td>18600.0</td>\n",
       "    </tr>\n",
       "    <tr>\n",
       "      <th>4</th>\n",
       "      <td>AHMEDNAGAR</td>\n",
       "      <td>1997.0</td>\n",
       "      <td>Kharif</td>\n",
       "      <td>Jowar</td>\n",
       "      <td>900.0</td>\n",
       "      <td>1100.0</td>\n",
       "    </tr>\n",
       "  </tbody>\n",
       "</table>\n",
       "</div>"
      ],
      "text/plain": [
       "  District_Name  Crop_Year       Season       Crop      Area  Production\n",
       "0           NaN        NaN          NaN        NaN       NaN         NaN\n",
       "1    AHMEDNAGAR     1997.0  Kharif       Arhar/Tur   17600.0      6300.0\n",
       "2    AHMEDNAGAR     1997.0  Kharif           Bajra  274100.0    152800.0\n",
       "3    AHMEDNAGAR     1997.0  Kharif            Gram   40800.0     18600.0\n",
       "4    AHMEDNAGAR     1997.0  Kharif           Jowar     900.0      1100.0"
      ]
     },
     "execution_count": 77,
     "metadata": {},
     "output_type": "execute_result"
    }
   ],
   "source": [
    "df_raw.head()"
   ]
  },
  {
   "cell_type": "code",
   "execution_count": 78,
   "metadata": {},
   "outputs": [
    {
     "name": "stdout",
     "output_type": "stream",
     "text": [
      "Unique crops:  [nan 'Arhar/Tur' 'Bajra' 'Gram' 'Jowar' 'Maize' 'Moong(Green Gram)'\n",
      " 'Pulses total' 'Ragi' 'Rice' 'Sugarcane' 'Total foodgrain' 'Urad'\n",
      " 'Other  Rabi pulses' 'Wheat' 'Cotton(lint)' 'Castor seed' 'Groundnut'\n",
      " 'Niger seed' 'Other Cereals & Millets' 'Other Kharif pulses' 'Sesamum'\n",
      " 'Soyabean' 'Sunflower' 'Linseed' 'Rapeseed &Mustard' 'Safflower'\n",
      " 'Small millets' 'other oilseeds' 'Banana' 'Grapes' 'Mango' 'Onion'\n",
      " 'Tomato' 'Tobacco']\n",
      "\n",
      "Number of unique crops:  34\n"
     ]
    }
   ],
   "source": [
    "print(\"Unique crops: \",df_raw['Crop'].unique())\n",
    "print(\"\\nNumber of unique crops: \", df_raw['Crop'].nunique())"
   ]
  },
  {
   "cell_type": "code",
   "execution_count": 79,
   "metadata": {},
   "outputs": [
    {
     "data": {
      "text/plain": [
       "Maize                      1049\n",
       "Sunflower                   960\n",
       "Jowar                       875\n",
       "Groundnut                   869\n",
       "Sesamum                     673\n",
       "Rice                        654\n",
       "Moong(Green Gram)           573\n",
       "Arhar/Tur                   570\n",
       "Urad                        550\n",
       "Gram                        548\n",
       "Wheat                       518\n",
       "Soyabean                    477\n",
       "Cotton(lint)                465\n",
       "Sugarcane                   456\n",
       "Bajra                       386\n",
       "Rapeseed &Mustard           367\n",
       "Other Kharif pulses         342\n",
       "Safflower                   339\n",
       "Niger seed                  323\n",
       "Other  Rabi pulses          306\n",
       "Castor seed                 296\n",
       "Linseed                     281\n",
       "Small millets               210\n",
       "Ragi                        206\n",
       "Other Cereals & Millets      86\n",
       "other oilseeds               43\n",
       "Mango                        31\n",
       "Tomato                       30\n",
       "Pulses total                 29\n",
       "Total foodgrain              29\n",
       "Banana                       28\n",
       "Onion                        26\n",
       "Grapes                       24\n",
       "Tobacco                       2\n",
       "Name: Crop, dtype: int64"
      ]
     },
     "execution_count": 79,
     "metadata": {},
     "output_type": "execute_result"
    }
   ],
   "source": [
    "df_raw['Crop'].value_counts()"
   ]
  },
  {
   "cell_type": "code",
   "execution_count": 80,
   "metadata": {},
   "outputs": [],
   "source": [
    "crops_to_remove = ['Other Cereals & Millets','other oilseeds','Mango','Tomato','Pulses total','Total foodgrain'\n",
    "                   ,'Banana','Onion','Grapes','Tobacco']\n",
    "df_raw = pd.DataFrame(df_raw.loc[~df_raw['Crop'].isin(crops_to_remove)]) "
   ]
  },
  {
   "cell_type": "code",
   "execution_count": 81,
   "metadata": {
    "scrolled": true
   },
   "outputs": [
    {
     "data": {
      "text/plain": [
       "Maize                  1049\n",
       "Sunflower               960\n",
       "Jowar                   875\n",
       "Groundnut               869\n",
       "Sesamum                 673\n",
       "Rice                    654\n",
       "Moong(Green Gram)       573\n",
       "Arhar/Tur               570\n",
       "Urad                    550\n",
       "Gram                    548\n",
       "Wheat                   518\n",
       "Soyabean                477\n",
       "Cotton(lint)            465\n",
       "Sugarcane               456\n",
       "Bajra                   386\n",
       "Rapeseed &Mustard       367\n",
       "Other Kharif pulses     342\n",
       "Safflower               339\n",
       "Niger seed              323\n",
       "Other  Rabi pulses      306\n",
       "Castor seed             296\n",
       "Linseed                 281\n",
       "Small millets           210\n",
       "Ragi                    206\n",
       "Name: Crop, dtype: int64"
      ]
     },
     "execution_count": 81,
     "metadata": {},
     "output_type": "execute_result"
    }
   ],
   "source": [
    "df_raw.Crop.value_counts()"
   ]
  },
  {
   "cell_type": "code",
   "execution_count": 82,
   "metadata": {},
   "outputs": [
    {
     "data": {
      "text/plain": [
       "Kharif         7119\n",
       "Rabi           3792\n",
       "Summer         1011\n",
       "Whole Year      371\n",
       "Name: Season, dtype: int64"
      ]
     },
     "execution_count": 82,
     "metadata": {},
     "output_type": "execute_result"
    }
   ],
   "source": [
    "df_raw['Season'].value_counts()"
   ]
  },
  {
   "cell_type": "code",
   "execution_count": 83,
   "metadata": {},
   "outputs": [],
   "source": [
    "df_raw = df_raw.dropna(how = 'all')"
   ]
  },
  {
   "cell_type": "code",
   "execution_count": 84,
   "metadata": {},
   "outputs": [
    {
     "data": {
      "text/plain": [
       "District_Name      0\n",
       "Crop_Year          0\n",
       "Season             0\n",
       "Crop               0\n",
       "Area               0\n",
       "Production       123\n",
       "dtype: int64"
      ]
     },
     "execution_count": 84,
     "metadata": {},
     "output_type": "execute_result"
    }
   ],
   "source": [
    "df_raw.isnull().sum()"
   ]
  },
  {
   "cell_type": "code",
   "execution_count": 85,
   "metadata": {},
   "outputs": [],
   "source": [
    "# Remove extra spaces in Season\n",
    "df_raw['Season'] = df_raw['Season'].str.strip()"
   ]
  },
  {
   "cell_type": "code",
   "execution_count": 86,
   "metadata": {},
   "outputs": [
    {
     "data": {
      "text/html": [
       "<div>\n",
       "<style scoped>\n",
       "    .dataframe tbody tr th:only-of-type {\n",
       "        vertical-align: middle;\n",
       "    }\n",
       "\n",
       "    .dataframe tbody tr th {\n",
       "        vertical-align: top;\n",
       "    }\n",
       "\n",
       "    .dataframe thead th {\n",
       "        text-align: right;\n",
       "    }\n",
       "</style>\n",
       "<table border=\"1\" class=\"dataframe\">\n",
       "  <thead>\n",
       "    <tr style=\"text-align: right;\">\n",
       "      <th></th>\n",
       "      <th>District_Name</th>\n",
       "      <th>Crop_Year</th>\n",
       "      <th>Season</th>\n",
       "      <th>Crop</th>\n",
       "      <th>Area</th>\n",
       "      <th>Production</th>\n",
       "    </tr>\n",
       "  </thead>\n",
       "  <tbody>\n",
       "    <tr>\n",
       "      <th>1</th>\n",
       "      <td>AHMEDNAGAR</td>\n",
       "      <td>1997.0</td>\n",
       "      <td>Kharif</td>\n",
       "      <td>Arhar/Tur</td>\n",
       "      <td>17600.0</td>\n",
       "      <td>6300.0</td>\n",
       "    </tr>\n",
       "    <tr>\n",
       "      <th>2</th>\n",
       "      <td>AHMEDNAGAR</td>\n",
       "      <td>1997.0</td>\n",
       "      <td>Kharif</td>\n",
       "      <td>Bajra</td>\n",
       "      <td>274100.0</td>\n",
       "      <td>152800.0</td>\n",
       "    </tr>\n",
       "    <tr>\n",
       "      <th>3</th>\n",
       "      <td>AHMEDNAGAR</td>\n",
       "      <td>1997.0</td>\n",
       "      <td>Kharif</td>\n",
       "      <td>Gram</td>\n",
       "      <td>40800.0</td>\n",
       "      <td>18600.0</td>\n",
       "    </tr>\n",
       "    <tr>\n",
       "      <th>4</th>\n",
       "      <td>AHMEDNAGAR</td>\n",
       "      <td>1997.0</td>\n",
       "      <td>Kharif</td>\n",
       "      <td>Jowar</td>\n",
       "      <td>900.0</td>\n",
       "      <td>1100.0</td>\n",
       "    </tr>\n",
       "    <tr>\n",
       "      <th>5</th>\n",
       "      <td>AHMEDNAGAR</td>\n",
       "      <td>1997.0</td>\n",
       "      <td>Kharif</td>\n",
       "      <td>Maize</td>\n",
       "      <td>4400.0</td>\n",
       "      <td>4700.0</td>\n",
       "    </tr>\n",
       "  </tbody>\n",
       "</table>\n",
       "</div>"
      ],
      "text/plain": [
       "  District_Name  Crop_Year  Season       Crop      Area  Production\n",
       "1    AHMEDNAGAR     1997.0  Kharif  Arhar/Tur   17600.0      6300.0\n",
       "2    AHMEDNAGAR     1997.0  Kharif      Bajra  274100.0    152800.0\n",
       "3    AHMEDNAGAR     1997.0  Kharif       Gram   40800.0     18600.0\n",
       "4    AHMEDNAGAR     1997.0  Kharif      Jowar     900.0      1100.0\n",
       "5    AHMEDNAGAR     1997.0  Kharif      Maize    4400.0      4700.0"
      ]
     },
     "execution_count": 86,
     "metadata": {},
     "output_type": "execute_result"
    }
   ],
   "source": [
    "df_raw.head()"
   ]
  },
  {
   "cell_type": "markdown",
   "metadata": {},
   "source": [
    "### Getting frequency of crops"
   ]
  },
  {
   "cell_type": "code",
   "execution_count": 87,
   "metadata": {},
   "outputs": [
    {
     "data": {
      "text/plain": [
       "Maize                  1049\n",
       "Sunflower               960\n",
       "Jowar                   875\n",
       "Groundnut               869\n",
       "Sesamum                 673\n",
       "Rice                    654\n",
       "Moong(Green Gram)       573\n",
       "Arhar/Tur               570\n",
       "Urad                    550\n",
       "Gram                    548\n",
       "Wheat                   518\n",
       "Soyabean                477\n",
       "Cotton(lint)            465\n",
       "Sugarcane               456\n",
       "Bajra                   386\n",
       "Rapeseed &Mustard       367\n",
       "Other Kharif pulses     342\n",
       "Safflower               339\n",
       "Niger seed              323\n",
       "Other  Rabi pulses      306\n",
       "Castor seed             296\n",
       "Linseed                 281\n",
       "Small millets           210\n",
       "Ragi                    206\n",
       "Name: Crop, dtype: int64"
      ]
     },
     "execution_count": 87,
     "metadata": {},
     "output_type": "execute_result"
    }
   ],
   "source": [
    "df_raw['Crop'].value_counts()"
   ]
  },
  {
   "cell_type": "code",
   "execution_count": 88,
   "metadata": {},
   "outputs": [
    {
     "data": {
      "text/plain": [
       "PUNE          482\n",
       "AHMEDNAGAR    481\n",
       "SATARA        467\n",
       "PARBHANI      455\n",
       "LATUR         455\n",
       "BEED          453\n",
       "NANDED        449\n",
       "OSMANABAD     448\n",
       "NASHIK        446\n",
       "SOLAPUR       445\n",
       "SANGLI        442\n",
       "JALNA         425\n",
       "AURANGABAD    421\n",
       "DHULE         405\n",
       "KOLHAPUR      397\n",
       "BULDHANA      391\n",
       "JALGAON       389\n",
       "AMRAVATI      388\n",
       "NAGPUR        380\n",
       "HINGOLI       371\n",
       "NANDURBAR     370\n",
       "YAVATMAL      347\n",
       "AKOLA         346\n",
       "WARDHA        318\n",
       "CHANDRAPUR    317\n",
       "WASHIM        299\n",
       "GADCHIROLI    299\n",
       "BHANDARA      281\n",
       "THANE         259\n",
       "RAIGAD        227\n",
       "GONDIA        224\n",
       "RATNAGIRI     206\n",
       "SINDHUDURG    199\n",
       "PALGHAR        11\n",
       "Name: District_Name, dtype: int64"
      ]
     },
     "execution_count": 88,
     "metadata": {},
     "output_type": "execute_result"
    }
   ],
   "source": [
    "df_raw['District_Name'].value_counts()"
   ]
  },
  {
   "cell_type": "code",
   "execution_count": 89,
   "metadata": {},
   "outputs": [
    {
     "data": {
      "text/plain": [
       "Kharif        7119\n",
       "Rabi          3792\n",
       "Summer        1011\n",
       "Whole Year     371\n",
       "Name: Season, dtype: int64"
      ]
     },
     "execution_count": 89,
     "metadata": {},
     "output_type": "execute_result"
    }
   ],
   "source": [
    "df_raw['Season'].value_counts()"
   ]
  },
  {
   "cell_type": "code",
   "execution_count": 90,
   "metadata": {},
   "outputs": [
    {
     "data": {
      "text/plain": [
       "array([0, 1, 2, 3])"
      ]
     },
     "execution_count": 90,
     "metadata": {},
     "output_type": "execute_result"
    }
   ],
   "source": [
    "from sklearn.preprocessing import LabelEncoder\n",
    "le = LabelEncoder()\n",
    "df_raw['Season'] = le.fit_transform(df_raw['Season'])\n",
    "df_raw['Season'].unique() "
   ]
  },
  {
   "cell_type": "code",
   "execution_count": 91,
   "metadata": {},
   "outputs": [
    {
     "name": "stdout",
     "output_type": "stream",
     "text": [
      "{'Kharif': 0, 'Rabi': 1, 'Summer': 2, 'Whole Year': 3}\n"
     ]
    }
   ],
   "source": [
    "# Getting the mappings on LabelEncoder\n",
    "le_name_mapping = dict(zip(le.classes_, le.transform(le.classes_)))\n",
    "print(le_name_mapping)"
   ]
  },
  {
   "cell_type": "code",
   "execution_count": 92,
   "metadata": {},
   "outputs": [
    {
     "data": {
      "text/html": [
       "<div>\n",
       "<style scoped>\n",
       "    .dataframe tbody tr th:only-of-type {\n",
       "        vertical-align: middle;\n",
       "    }\n",
       "\n",
       "    .dataframe tbody tr th {\n",
       "        vertical-align: top;\n",
       "    }\n",
       "\n",
       "    .dataframe thead th {\n",
       "        text-align: right;\n",
       "    }\n",
       "</style>\n",
       "<table border=\"1\" class=\"dataframe\">\n",
       "  <thead>\n",
       "    <tr style=\"text-align: right;\">\n",
       "      <th></th>\n",
       "      <th>District_Name</th>\n",
       "      <th>Crop_Year</th>\n",
       "      <th>Season</th>\n",
       "      <th>Crop</th>\n",
       "      <th>Area</th>\n",
       "      <th>Production</th>\n",
       "    </tr>\n",
       "  </thead>\n",
       "  <tbody>\n",
       "    <tr>\n",
       "      <th>1</th>\n",
       "      <td>AHMEDNAGAR</td>\n",
       "      <td>1997.0</td>\n",
       "      <td>0</td>\n",
       "      <td>Arhar/Tur</td>\n",
       "      <td>17600.0</td>\n",
       "      <td>6300.0</td>\n",
       "    </tr>\n",
       "    <tr>\n",
       "      <th>2</th>\n",
       "      <td>AHMEDNAGAR</td>\n",
       "      <td>1997.0</td>\n",
       "      <td>0</td>\n",
       "      <td>Bajra</td>\n",
       "      <td>274100.0</td>\n",
       "      <td>152800.0</td>\n",
       "    </tr>\n",
       "    <tr>\n",
       "      <th>3</th>\n",
       "      <td>AHMEDNAGAR</td>\n",
       "      <td>1997.0</td>\n",
       "      <td>0</td>\n",
       "      <td>Gram</td>\n",
       "      <td>40800.0</td>\n",
       "      <td>18600.0</td>\n",
       "    </tr>\n",
       "    <tr>\n",
       "      <th>4</th>\n",
       "      <td>AHMEDNAGAR</td>\n",
       "      <td>1997.0</td>\n",
       "      <td>0</td>\n",
       "      <td>Jowar</td>\n",
       "      <td>900.0</td>\n",
       "      <td>1100.0</td>\n",
       "    </tr>\n",
       "    <tr>\n",
       "      <th>5</th>\n",
       "      <td>AHMEDNAGAR</td>\n",
       "      <td>1997.0</td>\n",
       "      <td>0</td>\n",
       "      <td>Maize</td>\n",
       "      <td>4400.0</td>\n",
       "      <td>4700.0</td>\n",
       "    </tr>\n",
       "  </tbody>\n",
       "</table>\n",
       "</div>"
      ],
      "text/plain": [
       "  District_Name  Crop_Year  Season       Crop      Area  Production\n",
       "1    AHMEDNAGAR     1997.0       0  Arhar/Tur   17600.0      6300.0\n",
       "2    AHMEDNAGAR     1997.0       0      Bajra  274100.0    152800.0\n",
       "3    AHMEDNAGAR     1997.0       0       Gram   40800.0     18600.0\n",
       "4    AHMEDNAGAR     1997.0       0      Jowar     900.0      1100.0\n",
       "5    AHMEDNAGAR     1997.0       0      Maize    4400.0      4700.0"
      ]
     },
     "execution_count": 92,
     "metadata": {},
     "output_type": "execute_result"
    }
   ],
   "source": [
    "df_raw.head()"
   ]
  },
  {
   "cell_type": "markdown",
   "metadata": {},
   "source": [
    "## Trying yield prediction for Pune"
   ]
  },
  {
   "cell_type": "markdown",
   "metadata": {},
   "source": [
    "##### Note: This is just a trial, if it succeed then do this steps for every state and district available"
   ]
  },
  {
   "cell_type": "code",
   "execution_count": 93,
   "metadata": {},
   "outputs": [],
   "source": [
    "df_pune = df_raw[df_raw['District_Name'] == \"PUNE\"]"
   ]
  },
  {
   "cell_type": "code",
   "execution_count": 94,
   "metadata": {},
   "outputs": [
    {
     "data": {
      "text/html": [
       "<div>\n",
       "<style scoped>\n",
       "    .dataframe tbody tr th:only-of-type {\n",
       "        vertical-align: middle;\n",
       "    }\n",
       "\n",
       "    .dataframe tbody tr th {\n",
       "        vertical-align: top;\n",
       "    }\n",
       "\n",
       "    .dataframe thead th {\n",
       "        text-align: right;\n",
       "    }\n",
       "</style>\n",
       "<table border=\"1\" class=\"dataframe\">\n",
       "  <thead>\n",
       "    <tr style=\"text-align: right;\">\n",
       "      <th></th>\n",
       "      <th>District_Name</th>\n",
       "      <th>Crop_Year</th>\n",
       "      <th>Season</th>\n",
       "      <th>Crop</th>\n",
       "      <th>Area</th>\n",
       "      <th>Production</th>\n",
       "    </tr>\n",
       "  </thead>\n",
       "  <tbody>\n",
       "    <tr>\n",
       "      <th>8830</th>\n",
       "      <td>PUNE</td>\n",
       "      <td>1997.0</td>\n",
       "      <td>0</td>\n",
       "      <td>Arhar/Tur</td>\n",
       "      <td>3900.0</td>\n",
       "      <td>2900.0</td>\n",
       "    </tr>\n",
       "    <tr>\n",
       "      <th>8831</th>\n",
       "      <td>PUNE</td>\n",
       "      <td>1997.0</td>\n",
       "      <td>0</td>\n",
       "      <td>Bajra</td>\n",
       "      <td>135700.0</td>\n",
       "      <td>112000.0</td>\n",
       "    </tr>\n",
       "    <tr>\n",
       "      <th>8832</th>\n",
       "      <td>PUNE</td>\n",
       "      <td>1997.0</td>\n",
       "      <td>0</td>\n",
       "      <td>Gram</td>\n",
       "      <td>43400.0</td>\n",
       "      <td>26100.0</td>\n",
       "    </tr>\n",
       "    <tr>\n",
       "      <th>8833</th>\n",
       "      <td>PUNE</td>\n",
       "      <td>1997.0</td>\n",
       "      <td>0</td>\n",
       "      <td>Jowar</td>\n",
       "      <td>4200.0</td>\n",
       "      <td>5200.0</td>\n",
       "    </tr>\n",
       "    <tr>\n",
       "      <th>8834</th>\n",
       "      <td>PUNE</td>\n",
       "      <td>1997.0</td>\n",
       "      <td>0</td>\n",
       "      <td>Maize</td>\n",
       "      <td>4400.0</td>\n",
       "      <td>4700.0</td>\n",
       "    </tr>\n",
       "  </tbody>\n",
       "</table>\n",
       "</div>"
      ],
      "text/plain": [
       "     District_Name  Crop_Year  Season       Crop      Area  Production\n",
       "8830          PUNE     1997.0       0  Arhar/Tur    3900.0      2900.0\n",
       "8831          PUNE     1997.0       0      Bajra  135700.0    112000.0\n",
       "8832          PUNE     1997.0       0       Gram   43400.0     26100.0\n",
       "8833          PUNE     1997.0       0      Jowar    4200.0      5200.0\n",
       "8834          PUNE     1997.0       0      Maize    4400.0      4700.0"
      ]
     },
     "execution_count": 94,
     "metadata": {},
     "output_type": "execute_result"
    }
   ],
   "source": [
    "df_pune.head()"
   ]
  },
  {
   "cell_type": "code",
   "execution_count": 95,
   "metadata": {},
   "outputs": [
    {
     "name": "stderr",
     "output_type": "stream",
     "text": [
      "c:\\users\\atharava\\anaconda3\\envs\\agriai\\lib\\site-packages\\pandas\\core\\frame.py:4162: SettingWithCopyWarning: \n",
      "A value is trying to be set on a copy of a slice from a DataFrame\n",
      "\n",
      "See the caveats in the documentation: https://pandas.pydata.org/pandas-docs/stable/user_guide/indexing.html#returning-a-view-versus-a-copy\n",
      "  return super().drop(\n"
     ]
    }
   ],
   "source": [
    "df_pune.drop(['District_Name'], axis=1, inplace=True)"
   ]
  },
  {
   "cell_type": "code",
   "execution_count": 96,
   "metadata": {},
   "outputs": [
    {
     "data": {
      "text/html": [
       "<div>\n",
       "<style scoped>\n",
       "    .dataframe tbody tr th:only-of-type {\n",
       "        vertical-align: middle;\n",
       "    }\n",
       "\n",
       "    .dataframe tbody tr th {\n",
       "        vertical-align: top;\n",
       "    }\n",
       "\n",
       "    .dataframe thead th {\n",
       "        text-align: right;\n",
       "    }\n",
       "</style>\n",
       "<table border=\"1\" class=\"dataframe\">\n",
       "  <thead>\n",
       "    <tr style=\"text-align: right;\">\n",
       "      <th></th>\n",
       "      <th>Crop_Year</th>\n",
       "      <th>Season</th>\n",
       "      <th>Crop</th>\n",
       "      <th>Area</th>\n",
       "      <th>Production</th>\n",
       "    </tr>\n",
       "  </thead>\n",
       "  <tbody>\n",
       "    <tr>\n",
       "      <th>0</th>\n",
       "      <td>1997.0</td>\n",
       "      <td>0</td>\n",
       "      <td>Arhar/Tur</td>\n",
       "      <td>3900.0</td>\n",
       "      <td>2900.0</td>\n",
       "    </tr>\n",
       "    <tr>\n",
       "      <th>1</th>\n",
       "      <td>1997.0</td>\n",
       "      <td>0</td>\n",
       "      <td>Bajra</td>\n",
       "      <td>135700.0</td>\n",
       "      <td>112000.0</td>\n",
       "    </tr>\n",
       "    <tr>\n",
       "      <th>2</th>\n",
       "      <td>1997.0</td>\n",
       "      <td>0</td>\n",
       "      <td>Gram</td>\n",
       "      <td>43400.0</td>\n",
       "      <td>26100.0</td>\n",
       "    </tr>\n",
       "    <tr>\n",
       "      <th>3</th>\n",
       "      <td>1997.0</td>\n",
       "      <td>0</td>\n",
       "      <td>Jowar</td>\n",
       "      <td>4200.0</td>\n",
       "      <td>5200.0</td>\n",
       "    </tr>\n",
       "    <tr>\n",
       "      <th>4</th>\n",
       "      <td>1997.0</td>\n",
       "      <td>0</td>\n",
       "      <td>Maize</td>\n",
       "      <td>4400.0</td>\n",
       "      <td>4700.0</td>\n",
       "    </tr>\n",
       "  </tbody>\n",
       "</table>\n",
       "</div>"
      ],
      "text/plain": [
       "   Crop_Year  Season       Crop      Area  Production\n",
       "0     1997.0       0  Arhar/Tur    3900.0      2900.0\n",
       "1     1997.0       0      Bajra  135700.0    112000.0\n",
       "2     1997.0       0       Gram   43400.0     26100.0\n",
       "3     1997.0       0      Jowar    4200.0      5200.0\n",
       "4     1997.0       0      Maize    4400.0      4700.0"
      ]
     },
     "execution_count": 96,
     "metadata": {},
     "output_type": "execute_result"
    }
   ],
   "source": [
    "df_pune.reset_index(drop=True, inplace=True)\n",
    "df_pune.head()"
   ]
  },
  {
   "cell_type": "code",
   "execution_count": 97,
   "metadata": {
    "scrolled": true
   },
   "outputs": [
    {
     "data": {
      "text/plain": [
       "Sunflower              47\n",
       "Maize                  46\n",
       "Jowar                  34\n",
       "Sesamum                33\n",
       "Groundnut              31\n",
       "Wheat                  18\n",
       "Rice                   18\n",
       "Sugarcane              18\n",
       "Moong(Green Gram)      18\n",
       "Ragi                   18\n",
       "Arhar/Tur              18\n",
       "Gram                   18\n",
       "Bajra                  18\n",
       "Soyabean               17\n",
       "Safflower              17\n",
       "Urad                   17\n",
       "Niger seed             16\n",
       "Rapeseed &Mustard      13\n",
       "Other  Rabi pulses     12\n",
       "Castor seed            12\n",
       "Cotton(lint)           12\n",
       "Other Kharif pulses    11\n",
       "Linseed                10\n",
       "Small millets          10\n",
       "Name: Crop, dtype: int64"
      ]
     },
     "execution_count": 97,
     "metadata": {},
     "output_type": "execute_result"
    }
   ],
   "source": [
    "df_pune['Crop'].value_counts()"
   ]
  },
  {
   "cell_type": "markdown",
   "metadata": {},
   "source": [
    "### One Hot Encoding crops"
   ]
  },
  {
   "cell_type": "code",
   "execution_count": 103,
   "metadata": {},
   "outputs": [
    {
     "ename": "AttributeError",
     "evalue": "'Series' object has no attribute 'reshape'",
     "output_type": "error",
     "traceback": [
      "\u001b[1;31m---------------------------------------------------------------------------\u001b[0m",
      "\u001b[1;31mAttributeError\u001b[0m                            Traceback (most recent call last)",
      "\u001b[1;32m<ipython-input-103-3f679a1568ad>\u001b[0m in \u001b[0;36m<module>\u001b[1;34m\u001b[0m\n\u001b[0;32m      1\u001b[0m \u001b[1;32mfrom\u001b[0m \u001b[0msklearn\u001b[0m\u001b[1;33m.\u001b[0m\u001b[0mpreprocessing\u001b[0m \u001b[1;32mimport\u001b[0m \u001b[0mOneHotEncoder\u001b[0m\u001b[1;33m\u001b[0m\u001b[1;33m\u001b[0m\u001b[0m\n\u001b[0;32m      2\u001b[0m \u001b[0moe\u001b[0m \u001b[1;33m=\u001b[0m \u001b[0mOneHotEncoder\u001b[0m\u001b[1;33m(\u001b[0m\u001b[1;33m)\u001b[0m\u001b[1;33m\u001b[0m\u001b[1;33m\u001b[0m\u001b[0m\n\u001b[1;32m----> 3\u001b[1;33m \u001b[0mdf_pune\u001b[0m\u001b[1;33m[\u001b[0m\u001b[1;34m'Crop'\u001b[0m\u001b[1;33m]\u001b[0m \u001b[1;33m=\u001b[0m \u001b[0moe\u001b[0m\u001b[1;33m.\u001b[0m\u001b[0mfit_transform\u001b[0m\u001b[1;33m(\u001b[0m\u001b[0mnp\u001b[0m\u001b[1;33m.\u001b[0m\u001b[0marray\u001b[0m\u001b[1;33m(\u001b[0m\u001b[0mdf_pune\u001b[0m\u001b[1;33m[\u001b[0m\u001b[1;34m'Crop'\u001b[0m\u001b[1;33m]\u001b[0m\u001b[1;33m.\u001b[0m\u001b[0mreshape\u001b[0m\u001b[1;33m(\u001b[0m\u001b[1;33m-\u001b[0m\u001b[1;36m1\u001b[0m\u001b[1;33m,\u001b[0m\u001b[1;36m1\u001b[0m\u001b[1;33m)\u001b[0m\u001b[1;33m)\u001b[0m\u001b[1;33m)\u001b[0m\u001b[1;33m\u001b[0m\u001b[1;33m\u001b[0m\u001b[0m\n\u001b[0m",
      "\u001b[1;32mc:\\users\\atharava\\anaconda3\\envs\\agriai\\lib\\site-packages\\pandas\\core\\generic.py\u001b[0m in \u001b[0;36m__getattr__\u001b[1;34m(self, name)\u001b[0m\n\u001b[0;32m   5134\u001b[0m             \u001b[1;32mif\u001b[0m \u001b[0mself\u001b[0m\u001b[1;33m.\u001b[0m\u001b[0m_info_axis\u001b[0m\u001b[1;33m.\u001b[0m\u001b[0m_can_hold_identifiers_and_holds_name\u001b[0m\u001b[1;33m(\u001b[0m\u001b[0mname\u001b[0m\u001b[1;33m)\u001b[0m\u001b[1;33m:\u001b[0m\u001b[1;33m\u001b[0m\u001b[1;33m\u001b[0m\u001b[0m\n\u001b[0;32m   5135\u001b[0m                 \u001b[1;32mreturn\u001b[0m \u001b[0mself\u001b[0m\u001b[1;33m[\u001b[0m\u001b[0mname\u001b[0m\u001b[1;33m]\u001b[0m\u001b[1;33m\u001b[0m\u001b[1;33m\u001b[0m\u001b[0m\n\u001b[1;32m-> 5136\u001b[1;33m             \u001b[1;32mreturn\u001b[0m \u001b[0mobject\u001b[0m\u001b[1;33m.\u001b[0m\u001b[0m__getattribute__\u001b[0m\u001b[1;33m(\u001b[0m\u001b[0mself\u001b[0m\u001b[1;33m,\u001b[0m \u001b[0mname\u001b[0m\u001b[1;33m)\u001b[0m\u001b[1;33m\u001b[0m\u001b[1;33m\u001b[0m\u001b[0m\n\u001b[0m\u001b[0;32m   5137\u001b[0m \u001b[1;33m\u001b[0m\u001b[0m\n\u001b[0;32m   5138\u001b[0m     \u001b[1;32mdef\u001b[0m \u001b[0m__setattr__\u001b[0m\u001b[1;33m(\u001b[0m\u001b[0mself\u001b[0m\u001b[1;33m,\u001b[0m \u001b[0mname\u001b[0m\u001b[1;33m:\u001b[0m \u001b[0mstr\u001b[0m\u001b[1;33m,\u001b[0m \u001b[0mvalue\u001b[0m\u001b[1;33m)\u001b[0m \u001b[1;33m->\u001b[0m \u001b[1;32mNone\u001b[0m\u001b[1;33m:\u001b[0m\u001b[1;33m\u001b[0m\u001b[1;33m\u001b[0m\u001b[0m\n",
      "\u001b[1;31mAttributeError\u001b[0m: 'Series' object has no attribute 'reshape'"
     ]
    }
   ],
   "source": [
    "from sklearn.preprocessing import OneHotEncoder\n",
    "oe = OneHotEncoder()\n",
    "df_pune['Crop'] = oe.fit_transform(np.array(df_pune['Crop'].reshape(-1,1)))"
   ]
  },
  {
   "cell_type": "code",
   "execution_count": null,
   "metadata": {},
   "outputs": [],
   "source": []
  }
 ],
 "metadata": {
  "kernelspec": {
   "display_name": "Python 3",
   "language": "python",
   "name": "python3"
  },
  "language_info": {
   "codemirror_mode": {
    "name": "ipython",
    "version": 3
   },
   "file_extension": ".py",
   "mimetype": "text/x-python",
   "name": "python",
   "nbconvert_exporter": "python",
   "pygments_lexer": "ipython3",
   "version": "3.8.5"
  }
 },
 "nbformat": 4,
 "nbformat_minor": 4
}
